{
  "nbformat": 4,
  "nbformat_minor": 0,
  "metadata": {
    "colab": {
      "provenance": [],
      "authorship_tag": "ABX9TyO3eYPI1NQRHNVlNlt+Pc2t",
      "include_colab_link": true
    },
    "kernelspec": {
      "name": "python3",
      "display_name": "Python 3"
    },
    "language_info": {
      "name": "python"
    }
  },
  "cells": [
    {
      "cell_type": "markdown",
      "metadata": {
        "id": "view-in-github",
        "colab_type": "text"
      },
      "source": [
        "<a href=\"https://colab.research.google.com/github/pan7ae/laba_2_wiki/blob/master/laba_2_wiki.ipynb\" target=\"_parent\"><img src=\"https://colab.research.google.com/assets/colab-badge.svg\" alt=\"Open In Colab\"/></a>"
      ]
    },
    {
      "cell_type": "code",
      "source": [
        "import requests\n",
        "from bs4 import BeautifulSoup\n",
        "from typing import List\n",
        "import time\n",
        "from collections import deque"
      ],
      "metadata": {
        "id": "tIzqCCI7b38h"
      },
      "execution_count": 21,
      "outputs": []
    },
    {
      "cell_type": "code",
      "source": [
        "def send_request(url: str, rate_limit: int) -> str:\n",
        "    \"\"\"\n",
        "    Отправка GET-запроса на URL-адрес\n",
        "\n",
        "    :param url: URL-адрес страницы с Wikipedia\n",
        "    :param rate_limit: Ограничение на количество запросов\n",
        "    :return: Возвращает текст ответа с сервера\n",
        "    \"\"\"\n",
        "    time.sleep(60 / rate_limit)\n",
        "    response = requests.get(url)\n",
        "    response.raise_for_status()\n",
        "    return response.text"
      ],
      "metadata": {
        "id": "0Up6alJgb5it"
      },
      "execution_count": 22,
      "outputs": []
    },
    {
      "cell_type": "code",
      "source": [
        "def get_wikipedia_links(html: requests.Response.text, base_url: str) -> List[str]:\n",
        "    \"\"\"\n",
        "    Парсинг HTML-текста и возвращает список ссылок на другие статьи на сайте Wikipedia.\n",
        "\n",
        "    :param html: Текст HTTP-запроса\n",
        "    :param base_url: Базовая сслыка на Wikipedia\n",
        "    :return: Список ссылок, ведущих на другие статьи Wikipedia\n",
        "    \"\"\"\n",
        "    soup = BeautifulSoup(html, \"html.parser\")\n",
        "    main_content = soup.find(\"div\", {\"id\": \"bodyContent\"})\n",
        "    all_links = main_content.find_all(\"a\", href=True)\n",
        "\n",
        "    wiki_links = []\n",
        "\n",
        "    for link in all_links:\n",
        "        href = link[\"href\"]\n",
        "        if href.startswith(\"/wiki/\") and \":\" not in href:\n",
        "            full_url = base_url + href\n",
        "            wiki_links.append(full_url)\n",
        "\n",
        "    return wiki_links"
      ],
      "metadata": {
        "id": "jyv33YdYb62k"
      },
      "execution_count": 23,
      "outputs": []
    },
    {
      "cell_type": "code",
      "source": [
        "def find_shortest_path(url_1: str, url_2: str, rate_limit: int) -> List[str] | None:\n",
        "    \"\"\"\n",
        "    Используем очередь и поиск в ширину для обхода графа связей между страницами.\n",
        "\n",
        "    :param url_1: URL-адрес страницы с Wikipedia\n",
        "    :param url_2: URL-адрес страницы с Wikipedia\n",
        "    :param rate_limit: Ограничение на количество запросов\n",
        "    :return: Кратчайший путь в виде списка URL-адресов или None\n",
        "    \"\"\"\n",
        "    base_url = \"https://en.wikipedia.org\"\n",
        "\n",
        "    # Очередь путей, которые нужно исследовать\n",
        "    queue = deque()\n",
        "\n",
        "    # Множество посещенных адресов для избежания дублирования\n",
        "    visited = set()\n",
        "\n",
        "    queue.append(([url_1], 0))\n",
        "    visited.add(url_1)\n",
        "\n",
        "    while queue:\n",
        "        path, depth = queue.popleft()\n",
        "\n",
        "        if depth > 5:\n",
        "            return None\n",
        "\n",
        "        last_url = path[-1]\n",
        "        html = send_request(last_url, rate_limit)\n",
        "        wiki_links = get_wikipedia_links(html, base_url)\n",
        "\n",
        "        for link in wiki_links:\n",
        "            if link == url_2:\n",
        "                path.append(link)\n",
        "                return path\n",
        "\n",
        "            if link not in visited:\n",
        "                visited.add(link)\n",
        "                new_path = path.copy()\n",
        "                new_path.append(link)\n",
        "                queue.append((new_path, depth + 1))\n",
        "\n",
        "    return None"
      ],
      "metadata": {
        "id": "qDWiyg82b7xs"
      },
      "execution_count": 24,
      "outputs": []
    },
    {
      "cell_type": "code",
      "source": [
        "url1 = \"https://en.wikipedia.org/wiki/Dietrich_Mateschitz\"\n",
        "url2 = \"https://en.wikipedia.org/wiki/Lewis_Hamilton\"\n",
        "rate_limit = 10\n",
        "\n",
        "shortest_path = find_shortest_path(url1, url2, rate_limit)\n",
        "if shortest_path:\n",
        "    print(\" => \".join(shortest_path))\n",
        "else:\n",
        "    print(\"Цепочка переходов не найдена за 5 шагов.\")"
      ],
      "metadata": {
        "colab": {
          "base_uri": "https://localhost:8080/"
        },
        "id": "qc7PooOsmmUl",
        "outputId": "6792a229-0bba-4ee8-ebaf-cf301a92d8b9"
      },
      "execution_count": 26,
      "outputs": [
        {
          "output_type": "stream",
          "name": "stdout",
          "text": [
            "https://en.wikipedia.org/wiki/Dietrich_Mateschitz => https://en.wikipedia.org/wiki/List_of_Formula_One_World_Constructors%27_Champions => https://en.wikipedia.org/wiki/Lewis_Hamilton\n"
          ]
        }
      ]
    }
  ]
}